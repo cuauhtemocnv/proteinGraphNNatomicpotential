{
 "cells": [
  {
   "cell_type": "code",
   "execution_count": 1,
   "id": "2b2d6d84-41ca-4d92-81f5-811f012276b7",
   "metadata": {},
   "outputs": [],
   "source": [
    "# Graph Neural Network (GNN) for Molecular Energy Prediction\n",
    "# code for building a flexible Graph Neural Network (GNN) to predict molecular energies based on atomic structures. \n",
    "#The GNN takes into account the interactions between atoms and their distances."
   ]
  },
  {
   "cell_type": "code",
   "execution_count": 2,
   "id": "cf1c39a4",
   "metadata": {},
   "outputs": [],
   "source": [
    "import torch.nn as nn\n",
    "import torch.optim as optim\n",
    "import random\n",
    "from ase import Atoms\n",
    "import numpy as np\n",
    "import torch\n",
    "\n",
    "# Function to build the graph\n",
    "def build_graph(atoms, cutoff=5.0):\n",
    "    # Compute distances between atoms\n",
    "    distances = atoms.get_all_distances()\n",
    "    \n",
    "    # Get atomic numbers and reshape for concatenation\n",
    "    atomic_numbers = atoms.get_atomic_numbers().reshape(-1, 1).astype(float)\n",
    "    \n",
    "    # Concatenate atomic numbers and distances as features\n",
    "    features = np.hstack([atomic_numbers, distances])\n",
    "    \n",
    "    # Create adjacency matrix: 1 if distance is below cutoff, 0 otherwise (and set diagonal to 0)\n",
    "    adjacency_matrix = (distances < cutoff).astype(float)\n",
    "    np.fill_diagonal(adjacency_matrix, 0)\n",
    "    \n",
    "    return torch.tensor(features, dtype=torch.float32), torch.tensor(adjacency_matrix, dtype=torch.float32)\n",
    "\n",
    "# Define the flexible Graph Neural Network (GNN) class\n",
    "class FlexibleGNN(nn.Module):\n",
    "    def __init__(self, input_dim, layers):\n",
    "        super(FlexibleGNN, self).__init__()\n",
    "        self.layers = nn.ModuleList()\n",
    "        \n",
    "        # Add linear layers with ReLU activation functions\n",
    "        last_dim = input_dim\n",
    "        for layer_dim in layers:\n",
    "            self.layers.append(nn.Linear(last_dim, layer_dim))\n",
    "            last_dim = layer_dim\n",
    "        \n",
    "        # Output layer: predicting energy (single scalar)\n",
    "        self.out_layer = nn.Linear(last_dim, 1)\n",
    "\n",
    "    # Forward pass through the network\n",
    "    def forward(self, x, adj_matrix):\n",
    "        for layer in self.layers:\n",
    "            x = torch.matmul(adj_matrix, x)\n",
    "            x = nn.ReLU()(layer(x))  # Apply ReLU activation function\n",
    "        # Output layer\n",
    "        x = self.out_layer(x)\n",
    "        return x\n",
    "\n",
    "# Function to compute energies, I do this to a cheap way to compute energies but you can use DFT or import your own function like interatomic potentia\n",
    "def compute_energy(atoms, cutoff=5.0):\n",
    "    \"\"\"\n",
    "    This function calculates the total energy of a system of atoms as the sum of individual interaction energies.\n",
    "    The interaction energy between any two atoms is defined by the product of their atomic numbers, the sine of the distance between them, and the inverse of the distance itself.\n",
    "    \n",
    "    Parameters:\n",
    "    - atoms (ase.Atoms): The atomic configuration for which energies are to be computed.\n",
    "    - cutoff (float): The maximum distance between atoms for which interactions are considered.\n",
    "    \n",
    "    Returns:\n",
    "    - np.ndarray: The total energy of each atom in the system.\n",
    "    \"\"\"\n",
    "    \n",
    "    # Compute distances between all pairs of atoms\n",
    "    distances = atoms.get_all_distances()\n",
    "    \n",
    "    # Get atomic numbers and reshape for broadcasting in interaction calculation\n",
    "    atomic_numbers = atoms.get_atomic_numbers()\n",
    "    Z1 = atomic_numbers.reshape(-1, 1)\n",
    "    Z2 = atomic_numbers.reshape(1, -1)\n",
    "    \n",
    "    # Compute interaction values using the formula: Z1 * Z2 * sin(distance) / distance\n",
    "    # This formula assumes that the interaction energy is proportional to the product of atomic numbers\n",
    "    # and modulated by the sine of the distance between atoms, decaying with distance.\n",
    "    interaction_values = Z1 * Z2 * np.sin(distances) / distances\n",
    "\n",
    "    # Set the diagonal to zero to exclude self-interactions\n",
    "    np.fill_diagonal(interaction_values, 0)\n",
    "    \n",
    "    # Sum the interaction values for each atom, considering only interactions within the cutoff distance\n",
    "    energies = np.sum(np.where(distances < cutoff, interaction_values, 0), axis=1)\n",
    "    \n",
    "    return energies\n"
   ]
  },
  {
   "cell_type": "code",
   "execution_count": 3,
   "id": "6355818c-99b7-4f79-9c33-5095e62b31d1",
   "metadata": {},
   "outputs": [
    {
     "name": "stdout",
     "output_type": "stream",
     "text": [
      "Total number of atoms in the trajectory: 64\n"
     ]
    }
   ],
   "source": [
    "# Constructing a dataset, you can import your own dataset in a .traj file\n",
    "#The following code comments explain the process of constructing a dataset of atomic configurations by randomly perturbing\n",
    "#the positions of a H2O2 molecule. The shake_positions function introduces randomness to simulate different possible states of the molecule. \n",
    "#These configurations are stored in a trajectory list, which can be used as a training set for computational simulations or machine learning models. \n",
    "\n",
    "from ase import Atoms\n",
    "import numpy as np\n",
    "\n",
    "# Function to shake atom positions\n",
    "def shake_positions(positions, scale=0.1):\n",
    "    \"\"\"\n",
    "    This function applies a random displacement to atom positions to simulate thermal motion or other perturbations.\n",
    "    \n",
    "    Parameters:\n",
    "    - positions (np.ndarray): The original positions of the atoms.\n",
    "    - scale (float): The standard deviation of the displacement applied to each coordinate.\n",
    "    \n",
    "    Returns:\n",
    "    - np.ndarray: The new positions of the atoms after applying the random displacement.\n",
    "    \"\"\"\n",
    "    return positions + np.random.normal(scale=scale, size=positions.shape)\n",
    "\n",
    "# Initial positions for H2O2 molecule\n",
    "initial_positions = [\n",
    "    [0, 0, 0],  # First hydrogen atom\n",
    "    [0, 0, 1],  # Second hydrogen atom\n",
    "    [0, 1, 0],  # Oxygen atom\n",
    "    [1, 0, 0]   # Second oxygen atom\n",
    "]\n",
    "\n",
    "# Number of steps to generate configurations for the training set\n",
    "num_steps = 15\n",
    "\n",
    "# Create an empty list to store the trajectory of configurations\n",
    "trajectory = []\n",
    "\n",
    "# Add the initial configuration of the H2O2 molecule to the trajectory\n",
    "atoms = Atoms('H2O2', positions=initial_positions)\n",
    "trajectory.append(atoms)\n",
    "\n",
    "# Generate additional configurations by shaking the positions\n",
    "for _ in range(num_steps):\n",
    "    # Copy the previous configuration and shake the positions of the atoms\n",
    "    new_positions = shake_positions(trajectory[-1].positions, scale=0.8)\n",
    "    \n",
    "    # Create a new Atoms object with the shaken positions\n",
    "    new_atoms = Atoms('H2O2', positions=new_positions)\n",
    "    \n",
    "    # Append the new configuration to the trajectory\n",
    "    trajectory.append(new_atoms)\n",
    "\n",
    "# Check and print the total number of atoms in all configurations in the trajectory\n",
    "total_atoms = sum(len(atoms) for atoms in trajectory)\n",
    "print(\"Total number of atoms in the trajectory:\", total_atoms)\n"
   ]
  },
  {
   "cell_type": "code",
   "execution_count": 4,
   "id": "0ccfb581-6ae2-4dc0-8206-20e0bdc1260c",
   "metadata": {},
   "outputs": [
    {
     "name": "stdout",
     "output_type": "stream",
     "text": [
      "this is the gnn FlexibleGNN(\n",
      "  (layers): ModuleList(\n",
      "    (0): Linear(in_features=5, out_features=32, bias=True)\n",
      "    (1): Linear(in_features=32, out_features=64, bias=True)\n",
      "    (2): Linear(in_features=64, out_features=32, bias=True)\n",
      "  )\n",
      "  (out_layer): Linear(in_features=32, out_features=1, bias=True)\n",
      ")\n"
     ]
    },
    {
     "name": "stderr",
     "output_type": "stream",
     "text": [
      "C:\\Users\\cuau_\\AppData\\Local\\Temp\\ipykernel_12876\\227410517.py:74: RuntimeWarning: invalid value encountered in divide\n",
      "  interaction_values = Z1 * Z2 * np.sin(distances) / distances\n"
     ]
    },
    {
     "name": "stdout",
     "output_type": "stream",
     "text": [
      "Epoch 100/1100, Loss: 77.5912974178791, Learning rate: 0.007290000000000001\n",
      "Epoch 200/1100, Loss: 76.09980809688568, Learning rate: 0.004782969000000002\n",
      "Epoch 300/1100, Loss: 53.114169508218765, Learning rate: 0.003138105960900002\n",
      "Epoch 400/1100, Loss: 22.775256507098675, Learning rate: 0.0020589113209464917\n",
      "Epoch 500/1100, Loss: 16.175776685588062, Learning rate: 0.0013508517176729932\n",
      "Epoch 600/1100, Loss: 15.0025441092439, Learning rate: 0.0008862938119652509\n",
      "Epoch 700/1100, Loss: 13.883207720238715, Learning rate: 0.0006461081889226679\n",
      "Epoch 800/1100, Loss: 11.093996787793003, Learning rate: 0.0004239115827521625\n",
      "Epoch 900/1100, Loss: 10.85438097633596, Learning rate: 0.00027812838944369386\n",
      "Epoch 1000/1100, Loss: 11.007434943865519, Learning rate: 0.00018248003631400757\n",
      "Epoch 1100/1100, Loss: 10.778950939886272, Learning rate: 0.00011972515182562039\n"
     ]
    }
   ],
   "source": [
    "# This code block is designed to process the trajectory data generated from the previous code block,\n",
    "# build a graph representation for each atomic configuration, and train a Graph Neural Network (GNN) model.\n",
    "\n",
    "# Initialize an empty list to store graph data for each configuration\n",
    "data_list = []\n",
    "\n",
    "# Loop over each atomic configuration in the trajectory\n",
    "for atoms in trajectory:\n",
    "    # Build graph representation with node features and adjacency matrix\n",
    "    node_features, adj_matrix = build_graph(atoms, cutoff=5.0)\n",
    "    # Compute the energy of the configuration\n",
    "    energies = compute_energy(atoms, cutoff=5.0)\n",
    "    # Append the graph data and energies to the data list\n",
    "    data_list.append((node_features, adj_matrix, torch.tensor(energies, dtype=torch.float32)))\n",
    "\n",
    "# Define the loss function as Mean Squared Error Loss\n",
    "criterion = torch.nn.MSELoss()\n",
    "\n",
    "# Define the architecture of the FlexibleGNN model\n",
    "num_atoms = len(atoms)  # Number of atoms in a configuration\n",
    "input_dim = num_atoms + 1  # Input dimension includes atomic number\n",
    "layers = [32, 64, 32]  # Define the number of neurons in each layer\n",
    "torch.manual_seed(42)\n",
    "# Instantiate the GNN model with the specified architecture\n",
    "gnn = FlexibleGNN(input_dim=input_dim, layers=layers)\n",
    "print(\"this is the gnn\", gnn)\n",
    "# Initialize weights using Kaiming initialization\n",
    "def init_weights(m):\n",
    "    if isinstance(m, nn.Linear):\n",
    "        nn.init.kaiming_uniform_(m.weight)\n",
    "        m.bias.data.fill_(0.01)\n",
    "gnn.apply(init_weights)\n",
    "# Set the learning rate for the optimizer\n",
    "learning_rate = 0.01\n",
    "# Define the optimizer as Adam with the learning rate and GNN parameters\n",
    "optimizer = optim.Adam(gnn.parameters(), lr=learning_rate)\n",
    "\n",
    "# Define a scheduler to adjust the learning rate during training\n",
    "from torch.optim.lr_scheduler import StepLR,ReduceLROnPlateau  # Import the StepLR class\n",
    "\n",
    "scheduler = StepLR(optimizer, step_size=100, gamma=0.5)\n",
    "scheduler = ReduceLROnPlateau(optimizer, mode='max', factor=0.9,threshold=.001,patience=25)\n",
    "\n",
    "# Set the number of epochs for training\n",
    "num_epochs = 1100\n",
    "\n",
    "# Begin the training loop\n",
    "for epoch in range(num_epochs):\n",
    "    total_loss = 0.0  # Initialize total loss for the epoch\n",
    "\n",
    "    # Iterate over the dataset\n",
    "    for node_features, adj_matrix, target_energies in data_list:\n",
    "        # Perform a forward pass through the GNN\n",
    "        outputs = gnn(node_features, adj_matrix)\n",
    "        # Calculate the loss between the predicted and target energies\n",
    "        loss = criterion(outputs, target_energies.unsqueeze(-1))  # Reshape target energies\n",
    "\n",
    "        # Perform a backward pass and optimize the GNN parameters\n",
    "        optimizer.zero_grad()  # Clear gradients\n",
    "        loss.backward()  # Compute gradients\n",
    "        optimizer.step()  # Update parameters\n",
    "\n",
    "        # Accumulate the loss\n",
    "        total_loss += loss.item()\n",
    "\n",
    "    # Update the learning rate according to the scheduler\n",
    "    #scheduler.step()\n",
    "    scheduler.step(total_loss)\n",
    "\n",
    "\n",
    "    # Print the average loss and current learning rate for the epoch\n",
    "    # Check if the current epoch is a multiple of 100\n",
    "    if (epoch + 1) % 100 == 0:\n",
    "        # Print the average loss and current learning rate for every 100th epoch\n",
    "        print(f\"Epoch {epoch+1}/{num_epochs}, Loss: {total_loss/len(data_list)}, Learning rate: {scheduler.get_last_lr()[0]}\")\n"
   ]
  },
  {
   "cell_type": "code",
   "execution_count": 5,
   "id": "35c3cae2",
   "metadata": {},
   "outputs": [
    {
     "name": "stdout",
     "output_type": "stream",
     "text": [
      "Average test loss: 0.9086170555092394\n"
     ]
    },
    {
     "name": "stderr",
     "output_type": "stream",
     "text": [
      "C:\\Users\\cuau_\\AppData\\Local\\Temp\\ipykernel_12876\\227410517.py:74: RuntimeWarning: invalid value encountered in divide\n",
      "  interaction_values = Z1 * Z2 * np.sin(distances) / distances\n"
     ]
    }
   ],
   "source": [
    "# Assuming you have a trained GNN model named 'gnn', now create & test trajectory files named 'test_trajectory_files'\n",
    "# Create an empty list to store the testing trajectory in order to test\n",
    "test_trajectory_files = []\n",
    "\n",
    "# Add the initial configuration\n",
    "atoms = Atoms('H2O2', positions=initial_positions)\n",
    "test_trajectory_files.append(atoms)\n",
    "\n",
    "# Generate additional configurations\n",
    "for _ in range(num_steps):\n",
    "    # Copy the previous configuration and shake the positions of the H2O atoms\n",
    "    new_positions = shake_positions(trajectory[-1].positions[0:4], scale=0.1)\n",
    "    \n",
    "    # Create new atoms object with the shaken positions\n",
    "    new_atoms = Atoms('H2O2', positions=np.vstack([trajectory[-1].positions[4:], new_positions]))\n",
    "    \n",
    "    # Append to the trajectory\n",
    "    test_trajectory_files.append(new_atoms)\n",
    "\n",
    "# 1. Load your test trajectory files and generate test data\n",
    "test_data_list = []\n",
    "for test_traj_file in test_trajectory_files:\n",
    "    test_atoms = test_traj_file\n",
    "    test_node_features, test_adj_matrix = build_graph(test_atoms, cutoff=5.0)\n",
    "    test_energies = compute_energy(test_atoms, cutoff=5.0)\n",
    "    test_data_list.append((test_node_features, test_adj_matrix, torch.tensor(test_energies, dtype=torch.float32)))\n",
    "\n",
    "# 2. Evaluate the model on the test data\n",
    "test_losses = []\n",
    "for node_features, adj_matrix, target_energies in test_data_list:\n",
    "    test_outputs = gnn(node_features, adj_matrix)\n",
    "    test_loss = criterion(test_outputs, target_energies.unsqueeze(-1))\n",
    "    test_losses.append(test_loss.item())\n",
    "\n",
    "# 3. Print the average test loss\n",
    "avg_test_loss = sum(test_losses) / len(test_losses)\n",
    "print(\"Average test loss:\", avg_test_loss)\n"
   ]
  },
  {
   "cell_type": "code",
   "execution_count": 6,
   "id": "8e69f91d",
   "metadata": {},
   "outputs": [
    {
     "data": {
      "image/png": "[encoded data removed]",
      "text/plain": [
       "<Figure size 800x600 with 1 Axes>"
      ]
     },
     "metadata": {},
     "output_type": "display_data"
    }
   ],
   "source": [
    "import matplotlib.pyplot as plt\n",
    "\n",
    "# Prepare lists to store predicted and real energy values\n",
    "predicted_energies = []\n",
    "real_energies = []\n",
    "\n",
    "# Pass the test data through the trained GNN model to obtain predictions\n",
    "for node_features, adj_matrix, target_energies in test_data_list:\n",
    "    test_outputs = gnn(node_features, adj_matrix)\n",
    "    predicted_energies.extend(test_outputs.detach().numpy().flatten())  # Convert torch tensor to numpy array\n",
    "    real_energies.extend(target_energies.numpy())\n",
    "\n",
    "# Plot predicted energy vs real energy\n",
    "plt.figure(figsize=(8, 6))\n",
    "plt.scatter(real_energies, predicted_energies, color='blue', alpha=0.5)\n",
    "plt.plot(real_energies, real_energies, color='red', linestyle='--')  # Plot y = x line for reference\n",
    "plt.xlabel('Real Energy')\n",
    "plt.ylabel('Predicted Energy')\n",
    "plt.title('Predicted Energy vs Real Energy')\n",
    "plt.grid(True)\n",
    "plt.show()\n"
   ]
  },
  {
   "cell_type": "code",
   "execution_count": 7,
   "id": "dec85eab-b226-4672-9808-a73f548db176",
   "metadata": {},
   "outputs": [
    {
     "name": "stdout",
     "output_type": "stream",
     "text": [
      "Total energy: 141.29074096679688\n"
     ]
    }
   ],
   "source": [
    "#function to calculate the energy based on your trained model\n",
    "def calculate_total_energy(atoms, gnn_model, cutoff=5.0):\n",
    "    # Step 1: Convert Atoms object into node features and adjacency matrix\n",
    "    node_features, adj_matrix = build_graph(atoms, cutoff=cutoff)\n",
    "    \n",
    "    # Step 2: Pass node features and adjacency matrix through the GNN model\n",
    "    predicted_energies = gnn_model(node_features, adj_matrix)\n",
    "    \n",
    "    # Step 3: Sum up the predicted energies to get the total energy\n",
    "    total_energy = torch.sum(predicted_energies).item()\n",
    "    \n",
    "    return total_energy\n",
    "\n",
    "# Example usage:\n",
    "gnn_model = gnn\n",
    "total_energy = calculate_total_energy(atoms, gnn)\n",
    "print(\"Total energy:\", total_energy)\n"
   ]
  },
  {
   "cell_type": "code",
   "execution_count": 8,
   "id": "aba40151",
   "metadata": {},
   "outputs": [],
   "source": [
    "from ase.collections import g2\n"
   ]
  },
  {
   "cell_type": "code",
   "execution_count": 9,
   "id": "996e01bd",
   "metadata": {},
   "outputs": [
    {
     "name": "stdout",
     "output_type": "stream",
     "text": [
      "['PH3', 'P2', 'CH3CHO', 'H2COH', 'CS', 'OCHCHO', 'C3H9C', 'CH3COF', 'CH3CH2OCH3', 'HCOOH', 'HCCl3', 'HOCl', 'H2', 'SH2', 'C2H2', 'C4H4NH', 'CH3SCH3', 'SiH2_s3B1d', 'CH3SH', 'CH3CO', 'CO', 'ClF3', 'SiH4', 'C2H6CHOH', 'CH2NHCH2', 'isobutene', 'HCO', 'bicyclobutane', 'LiF', 'Si', 'C2H6', 'CN', 'ClNO', 'S', 'SiF4', 'H3CNH2', 'methylenecyclopropane', 'CH3CH2OH', 'F', 'NaCl', 'CH3Cl', 'CH3SiH3', 'AlF3', 'C2H3', 'ClF', 'PF3', 'PH2', 'CH3CN', 'cyclobutene', 'CH3ONO', 'SiH3', 'C3H6_D3h', 'CO2', 'NO', 'trans-butane', 'H2CCHCl', 'LiH', 'NH2', 'CH', 'CH2OCH2', 'C6H6', 'CH3CONH2', 'cyclobutane', 'H2CCHCN', 'butadiene', 'C', 'H2CO', 'CH3COOH', 'HCF3', 'CH3S', 'CS2', 'SiH2_s1A1d', 'C4H4S', 'N2H4', 'OH', 'CH3OCH3', 'C5H5N', 'H2O', 'HCl', 'CH2_s1A1d', 'CH3CH2SH', 'CH3NO2', 'Cl', 'Be', 'BCl3', 'C4H4O', 'Al', 'CH3O', 'CH3OH', 'C3H7Cl', 'isobutane', 'Na', 'CCl4', 'CH3CH2O', 'H2CCHF', 'C3H7', 'CH3', 'O3', 'P', 'C2H4', 'NCCN', 'S2', 'AlCl3', 'SiCl4', 'SiO', 'C3H4_D2d', 'H', 'COF2', '2-butyne', 'C2H5', 'BF3', 'N2O', 'F2O', 'SO2', 'H2CCl2', 'CF3CN', 'HCN', 'C2H6NH', 'OCS', 'B', 'ClO', 'C3H8', 'HF', 'O2', 'SO', 'NH', 'C2F4', 'NF3', 'CH2_s3B1d', 'CH3CH2Cl', 'CH3COCl', 'NH3', 'C3H9N', 'CF4', 'C3H6_Cs', 'Si2H6', 'HCOOCH3', 'O', 'CCH', 'N', 'Si2', 'C2H6SO', 'C5H8', 'H2CF2', 'Li2', 'CH2SCH2', 'C2Cl4', 'C3H4_C3v', 'CH3COCH3', 'F2', 'CH4', 'SH', 'H2CCO', 'CH3CH2NH2', 'Li', 'N2', 'Cl2', 'H2O2', 'Na2', 'BeH', 'C3H4_C2v', 'NO2']\n"
     ]
    },
    {
     "data": {
      "text/plain": [
       "'C6 H15 N2 O2'"
      ]
     },
     "execution_count": 9,
     "metadata": {},
     "output_type": "execute_result"
    }
   ],
   "source": [
    "print(g2.names)  \n",
    "\"C6 H15 N2 O2\" "
   ]
  },
  {
   "cell_type": "code",
   "execution_count": 11,
   "id": "161e19ca",
   "metadata": {},
   "outputs": [],
   "source": [
    "from ase.build import molecule"
   ]
  },
  {
   "cell_type": "code",
   "execution_count": null,
   "id": "17f6c500",
   "metadata": {},
   "outputs": [],
   "source": [
    "atoms"
   ]
  },
  {
   "cell_type": "code",
   "execution_count": null,
   "id": "7217b6ee",
   "metadata": {},
   "outputs": [],
   "source": []
  },
  {
   "cell_type": "code",
   "execution_count": null,
   "id": "deae1aac",
   "metadata": {},
   "outputs": [],
   "source": []
  },
  {
   "cell_type": "code",
   "execution_count": null,
   "id": "09bb8ca2",
   "metadata": {},
   "outputs": [],
   "source": []
  },
  {
   "cell_type": "code",
   "execution_count": null,
   "id": "944b8b01",
   "metadata": {},
   "outputs": [],
   "source": []
  },
  {
   "cell_type": "code",
   "execution_count": null,
   "id": "bb0c8ad6",
   "metadata": {},
   "outputs": [],
   "source": []
  }
 ],
 "metadata": {
  "kernelspec": {
   "display_name": "Python 3 (ipykernel)",
   "language": "python",
   "name": "python3"
  },
  "language_info": {
   "codemirror_mode": {
    "name": "ipython",
    "version": 3
   },
   "file_extension": ".py",
   "mimetype": "text/x-python",
   "name": "python",
   "nbconvert_exporter": "python",
   "pygments_lexer": "ipython3",
   "version": "3.12.3"
  }
 },
 "nbformat": 4,
 "nbformat_minor": 5
}
